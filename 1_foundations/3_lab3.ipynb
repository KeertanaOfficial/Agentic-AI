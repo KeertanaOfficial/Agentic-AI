{
 "cells": [
  {
   "cell_type": "markdown",
   "metadata": {},
   "source": [
    "## Welcome to Lab 3 for Week 1 Day 4\n",
    "\n",
    "Today we're going to build something with immediate value!\n",
    "\n",
    "In the folder `me` I've put a single file `linkedin.pdf` - it's a PDF download of my LinkedIn profile.\n",
    "\n",
    "Please replace it with yours!\n",
    "\n",
    "I've also made a file called `summary.txt`\n",
    "\n",
    "We're not going to use Tools just yet - we're going to add the tool tomorrow."
   ]
  },
  {
   "cell_type": "markdown",
   "metadata": {},
   "source": [
    "<table style=\"margin: 0; text-align: left; width:100%\">\n",
    "    <tr>\n",
    "        <td style=\"width: 150px; height: 150px; vertical-align: middle;\">\n",
    "            <img src=\"../assets/tools.png\" width=\"150\" height=\"150\" style=\"display: block;\" />\n",
    "        </td>\n",
    "        <td>\n",
    "            <h2 style=\"color:#00bfff;\">Looking up packages</h2>\n",
    "            <span style=\"color:#00bfff;\">In this lab, we're going to use the wonderful Gradio package for building quick UIs, \n",
    "            and we're also going to use the popular PyPDF PDF reader. You can get guides to these packages by asking \n",
    "            ChatGPT or Claude, and you find all open-source packages on the repository <a href=\"https://pypi.org\">https://pypi.org</a>.\n",
    "            </span>\n",
    "        </td>\n",
    "    </tr>\n",
    "</table>"
   ]
  },
  {
   "cell_type": "code",
   "execution_count": 1,
   "metadata": {},
   "outputs": [],
   "source": [
    "# If you don't know what any of these packages do - you can always ask ChatGPT for a guide!\n",
    "\n",
    "from dotenv import load_dotenv\n",
    "from openai import OpenAI\n",
    "from pypdf import PdfReader\n",
    "import gradio as gr"
   ]
  },
  {
   "cell_type": "code",
   "execution_count": 2,
   "metadata": {},
   "outputs": [],
   "source": [
    "load_dotenv(override=True)\n",
    "openai = OpenAI()"
   ]
  },
  {
   "cell_type": "code",
   "execution_count": 3,
   "metadata": {},
   "outputs": [],
   "source": [
    "reader = PdfReader(\"me/linkedin.pdf\")\n",
    "linkedin = \"\"\n",
    "for page in reader.pages:\n",
    "    text = page.extract_text()\n",
    "    if text:\n",
    "        linkedin += text"
   ]
  },
  {
   "cell_type": "code",
   "execution_count": 4,
   "metadata": {},
   "outputs": [
    {
     "name": "stdout",
     "output_type": "stream",
     "text": [
      "E q \n",
      " \n",
      "KEERTANA NANDYALA \n",
      "Technical Program Manager \n",
      "206 856 0486 keertana.1 gmail.com https://www.linkedin.com/in/keertana- \n",
      "nandyala/ \n",
      "e Bothell, WA \n",
      " \n",
      " \n",
      " \n",
      " \n",
      "SUMMARY  \n",
      "Keertana Nandyala is an experienced Project management \n",
      "professional with over 18 years of total Information technology \n",
      "experience. I have solid experience in Project and Program \n",
      "Management, SQL/BI development. I am a life-long learner and \n",
      "SKILLS \n",
      "Problem Solving, Analysis, Leadership, SQL, Kusto, \n",
      "Excel, Power BI, React JS, Azure ML, Azure PaaS, \n",
      "ADF, ADO\n",
      "I seek to grow knowledge and leadership in the field of Technical   \n",
      "Project and Program Management. \n",
      " \n",
      "EXPERIENCE  \n",
      "Solution Architect – AI and Automation \n",
      "Wipro \n",
      "C 08/2025 – Ongoing e  Redmond, WA \n",
      "Focused on task automation, Copilot integration, and Agentic AI \n",
      "design to enhance business efficiency. \n",
      "Collaborated with cross-functional teams to define automation use \n",
      "cases and deliver scalable AI-driven solutions. \n",
      "Designed end-to-end automation strategies, aligning with \n",
      "organizational goals for productivity and digital transformation.  \n",
      "Transition Manager \n",
      "Wipro \n",
      "C 02/2025 – 07/2025 e  Redmond, WA \n",
      "Directed transition efforts for 700+ candidates (rehired staff, internal \n",
      "transfers, and new hires) across Americas, EMEA, and APAC regions. \n",
      "Managed multiple service lines, ensuring continuity and smooth \n",
      "integration throughout the transition. \n",
      "Coordinated rehire processes with previous employers and Talent \n",
      "Acquisition, adapting to region-specific hiring timelines. \n",
      "Partnered with IT and laptop provisioning teams to validate \n",
      "candidate data, deliver equipment, and ensure domain-joined \n",
      "systems were ready for day-one productivity. \n",
      "Oversaw email migration and access continuity, minimizing downtime \n",
      "during employee movement. \n",
      "Improved data quality and stakeholder reporting, ensuring timely \n",
      "decisions and approvals through the project charter process. \n",
      "Achieved consistent on-time delivery across transition phases, \n",
      "contributing to the overall success of the program. \n",
      "Technical Program Manager \n",
      "Wipro \n",
      "C 02/2022 - Ongoing  e Redmond, WA \n",
      "Facilitated sprint review and planning meetings with engineering \n",
      "teams, overseeing product backlog management and adherence to \n",
      "Agile best practices. \n",
      "Achieved 100% on-time delivery across a project portfolio exceeding \n",
      "$1.5M in revenue. \n",
      "INDUSTRY EXPERTISE \n",
      "Agile Practices \n",
      " \n",
      " \n",
      "SQL\\BI Development \n",
      " \n",
      "Project\\Program Management \n",
      "     \n",
      "Problem Solving\\Analysis\\Leadership \n",
      " \n",
      "AI and ML  \n",
      " \n",
      " \n",
      "EDUCATION \n",
      "B.Tech, Electronics and \n",
      "Communication Engineering \n",
      "G.Narayanamma Engineering College \n",
      "e Hyderabad, India \n",
      " \n",
      "AWARDS  \n",
      "Received \"Above and Beyond\" \n",
      "performance from HCL for 3 \n",
      "quarters. \n",
      "s \n",
      "EXPERIENCE  \n",
      "and support standards, implementing serialized technical training \n",
      "and work effort tracking process that boosted productivity by 20%. \n",
      "Led Supportability projects within the M365 space from inception to \n",
      "completion. \n",
      "Spearheaded the migration of a Machine Learning Project to Azure, \n",
      "automating resource creation with Bicep templates, reducing manual \n",
      "workload by 75%. \n",
      "Developed Azure architecture diagrams and comprehensive project \n",
      "documentation, ensuring compliance and security standards were \n",
      "met through stakeholder collaboration. Created Power BI reports to \n",
      "visualize model outputs across various product categories, enhancing \n",
      "internal stakeholder decision-making. \n",
      "Played a key role in interviewing, hiring, onboarding, and \n",
      "offboarding for multiple projects. \n",
      "Managed a team of over 15 direct reports, overseeing project and \n",
      "people management activities. \n",
      " \n",
      "Senior Project Manager \n",
      "HCL Technologies \n",
      "C 10/2016 - 02/2022 e Redmond, WA \n",
      "Managed multiple projects (~$2M) from initiation to closure, \n",
      "including scope, timelines, budget, and execution. \n",
      "Collaborated with engineering and program management teams; led \n",
      "sprint planning, reviews, and stakeholder updates. \n",
      "Designed application architecture and identified/mitigated risks \n",
      "during monthly/quarterly service reviews. \n",
      "Automated task reporting of Azure DevOps work items using .NET; \n",
      "developed end-to-end modules with React. \n",
      "Hired and onboarded employees across projects, ensuring smooth \n",
      "integration into teams. \n",
      "Hands-on with Azure services: Web Jobs, App Services, Access \n",
      "Controls, Automation Accounts, and Runbooks. \n",
      "Software Developer \n",
      "Hewlett Packard Enterprise \n",
      "C 10/2008 - 07/2016 e Dublin, OH \n",
      "Developed data conversion logic and import files for employee \n",
      "retirement systems; monitored and stabilized monthly payroll runs \n",
      "by diagnosing and resolving defects. \n",
      " \n",
      "Designed and optimized SQL Server solutions (Stored Procedures, \n",
      "Functions, Views, complex queries) to improve performance and \n",
      "reliability. \n",
      " \n",
      "Built and migrated reports (BRIO → SSRS, Active Reports .NET 6.0, \n",
      "QlikView dashboards) and integrated reporting with C# .NET + SQL \n",
      "Server 2008. \n",
      " \n",
      "Designed and deployed OLAP cubes with advanced MDX calculations \n",
      "to enable complex reporting and analytics. \n",
      " \n",
      "Authored SSIS packages and automated workflows with PowerShell; \n",
      "created data models (Erwin), data dictionaries, and supported \n",
      "PERSONAL PROJECTS  \n",
      "Moments N Memories C 07/2019 - 12/2019   \n",
      "e Bothell, WA \n",
      " \n",
      "Developed Instagram clone using MERN stack and \n",
      "deployed to Heroku.  \n",
      "  \n",
      "Amazon Clone C 01/2022 - 02/2022 e Bothell \n",
      "WA \n",
      "Developed Sign-in, Main Page, Cart in Amazon clone              \n",
      "project using MERN stack and deployed to Firebase. \n",
      " \n",
      "Github Account \n",
      "https://github.com/KeertanaOfficial/amazon- clone.git \n",
      " \n",
      "VOLUNTEERING  \n",
      "Teaching Staff \n",
      "Manasamskruti \n",
      "C 2018 - 2025 \n",
      "Teaching a world language (Telugu) to second \n",
      "and third grade kids. \n",
      " \n",
      "Certifications  \n",
      "AI-900 \n",
      "Microsoft Certified: Azure AI Fundamentals \n",
      "Credential ID: 3818196E4F53CADF \n",
      "Certification number: OA44EE-23B502 \n",
      "Earned on: April 19, 2023 \n",
      " \n",
      " \n",
      "Past Experiences  \n",
      "BI Developer \n",
      "Verizon, India - 10/2006 - 03/2008 \n",
      " \n",
      "Developer \n",
      "Satyam, India - 05/2004 - 10/2006\n",
      "build/deployment. \n",
      " \n",
      "Performed comprehensive DB maintenance including \n",
      "backups/restores, index rebuilds, statistics updates, maintenance \n",
      "plans, and SQL jobs. \n",
      " \n",
      " \n",
      " \n",
      " \n",
      " \n",
      ". \n"
     ]
    }
   ],
   "source": [
    "print(linkedin)"
   ]
  },
  {
   "cell_type": "code",
   "execution_count": 5,
   "metadata": {},
   "outputs": [],
   "source": [
    "with open(\"me/summary.txt\", \"r\", encoding=\"utf-8\") as f:\n",
    "    summary = f.read()"
   ]
  },
  {
   "cell_type": "code",
   "execution_count": 9,
   "metadata": {},
   "outputs": [],
   "source": [
    "name = \"Keertana Nandyala\""
   ]
  },
  {
   "cell_type": "code",
   "execution_count": 10,
   "metadata": {},
   "outputs": [],
   "source": [
    "system_prompt = f\"You are acting as {name}. You are answering questions on {name}'s website, \\\n",
    "particularly questions related to {name}'s career, background, skills and experience. \\\n",
    "Your responsibility is to represent {name} for interactions on the website as faithfully as possible. \\\n",
    "You are given a summary of {name}'s background and LinkedIn profile which you can use to answer questions. \\\n",
    "Be professional and engaging, as if talking to a potential client or future employer who came across the website. \\\n",
    "If you don't know the answer, say so.\"\n",
    "\n",
    "system_prompt += f\"\\n\\n## Summary:\\n{summary}\\n\\n## LinkedIn Profile:\\n{linkedin}\\n\\n\"\n",
    "system_prompt += f\"With this context, please chat with the user, always staying in character as {name}.\"\n"
   ]
  },
  {
   "cell_type": "code",
   "execution_count": 11,
   "metadata": {},
   "outputs": [
    {
     "data": {
      "text/plain": [
       "'You are acting as Keertana Nandyala. You are answering questions on Keertana Nandyala\\'s website, particularly questions related to Keertana Nandyala\\'s career, background, skills and experience. Your responsibility is to represent Keertana Nandyala for interactions on the website as faithfully as possible. You are given a summary of Keertana Nandyala\\'s background and LinkedIn profile which you can use to answer questions. Be professional and engaging, as if talking to a potential client or future employer who came across the website. If you don\\'t know the answer, say so.\\n\\n## Summary:\\n\\n\\n## LinkedIn Profile:\\nE q \\n \\nKEERTANA NANDYALA \\nTechnical Program Manager \\n206 856 0486 keertana.1 gmail.com https://www.linkedin.com/in/keertana- \\nnandyala/ \\ne Bothell, WA \\n \\n \\n \\n \\nSUMMARY  \\nKeertana Nandyala is an experienced Project management \\nprofessional with over 18 years of total Information technology \\nexperience. I have solid experience in Project and Program \\nManagement, SQL/BI development. I am a life-long learner and \\nSKILLS \\nProblem Solving, Analysis, Leadership, SQL, Kusto, \\nExcel, Power BI, React JS, Azure ML, Azure PaaS, \\nADF, ADO\\nI seek to grow knowledge and leadership in the field of Technical   \\nProject and Program Management. \\n \\nEXPERIENCE  \\nSolution Architect – AI and Automation \\nWipro \\nC 08/2025 – Ongoing e  Redmond, WA \\nFocused on task automation, Copilot integration, and Agentic AI \\ndesign to enhance business efficiency. \\nCollaborated with cross-functional teams to define automation use \\ncases and deliver scalable AI-driven solutions. \\nDesigned end-to-end automation strategies, aligning with \\norganizational goals for productivity and digital transformation.  \\nTransition Manager \\nWipro \\nC 02/2025 – 07/2025 e  Redmond, WA \\nDirected transition efforts for 700+ candidates (rehired staff, internal \\ntransfers, and new hires) across Americas, EMEA, and APAC regions. \\nManaged multiple service lines, ensuring continuity and smooth \\nintegration throughout the transition. \\nCoordinated rehire processes with previous employers and Talent \\nAcquisition, adapting to region-specific hiring timelines. \\nPartnered with IT and laptop provisioning teams to validate \\ncandidate data, deliver equipment, and ensure domain-joined \\nsystems were ready for day-one productivity. \\nOversaw email migration and access continuity, minimizing downtime \\nduring employee movement. \\nImproved data quality and stakeholder reporting, ensuring timely \\ndecisions and approvals through the project charter process. \\nAchieved consistent on-time delivery across transition phases, \\ncontributing to the overall success of the program. \\nTechnical Program Manager \\nWipro \\nC 02/2022 - Ongoing  e Redmond, WA \\nFacilitated sprint review and planning meetings with engineering \\nteams, overseeing product backlog management and adherence to \\nAgile best practices. \\nAchieved 100% on-time delivery across a project portfolio exceeding \\n$1.5M in revenue. \\nINDUSTRY EXPERTISE \\nAgile Practices \\n \\n \\nSQL\\\\BI Development \\n \\nProject\\\\Program Management \\n     \\nProblem Solving\\\\Analysis\\\\Leadership \\n \\nAI and ML  \\n \\n \\nEDUCATION \\nB.Tech, Electronics and \\nCommunication Engineering \\nG.Narayanamma Engineering College \\ne Hyderabad, India \\n \\nAWARDS  \\nReceived \"Above and Beyond\" \\nperformance from HCL for 3 \\nquarters. \\ns \\nEXPERIENCE  \\nand support standards, implementing serialized technical training \\nand work effort tracking process that boosted productivity by 20%. \\nLed Supportability projects within the M365 space from inception to \\ncompletion. \\nSpearheaded the migration of a Machine Learning Project to Azure, \\nautomating resource creation with Bicep templates, reducing manual \\nworkload by 75%. \\nDeveloped Azure architecture diagrams and comprehensive project \\ndocumentation, ensuring compliance and security standards were \\nmet through stakeholder collaboration. Created Power BI reports to \\nvisualize model outputs across various product categories, enhancing \\ninternal stakeholder decision-making. \\nPlayed a key role in interviewing, hiring, onboarding, and \\noffboarding for multiple projects. \\nManaged a team of over 15 direct reports, overseeing project and \\npeople management activities. \\n \\nSenior Project Manager \\nHCL Technologies \\nC 10/2016 - 02/2022 e Redmond, WA \\nManaged multiple projects (~$2M) from initiation to closure, \\nincluding scope, timelines, budget, and execution. \\nCollaborated with engineering and program management teams; led \\nsprint planning, reviews, and stakeholder updates. \\nDesigned application architecture and identified/mitigated risks \\nduring monthly/quarterly service reviews. \\nAutomated task reporting of Azure DevOps work items using .NET; \\ndeveloped end-to-end modules with React. \\nHired and onboarded employees across projects, ensuring smooth \\nintegration into teams. \\nHands-on with Azure services: Web Jobs, App Services, Access \\nControls, Automation Accounts, and Runbooks. \\nSoftware Developer \\nHewlett Packard Enterprise \\nC 10/2008 - 07/2016 e Dublin, OH \\nDeveloped data conversion logic and import files for employee \\nretirement systems; monitored and stabilized monthly payroll runs \\nby diagnosing and resolving defects. \\n \\nDesigned and optimized SQL Server solutions (Stored Procedures, \\nFunctions, Views, complex queries) to improve performance and \\nreliability. \\n \\nBuilt and migrated reports (BRIO → SSRS, Active Reports .NET 6.0, \\nQlikView dashboards) and integrated reporting with C# .NET + SQL \\nServer 2008. \\n \\nDesigned and deployed OLAP cubes with advanced MDX calculations \\nto enable complex reporting and analytics. \\n \\nAuthored SSIS packages and automated workflows with PowerShell; \\ncreated data models (Erwin), data dictionaries, and supported \\nPERSONAL PROJECTS  \\nMoments N Memories C 07/2019 - 12/2019   \\ne Bothell, WA \\n \\nDeveloped Instagram clone using MERN stack and \\ndeployed to Heroku.  \\n  \\nAmazon Clone C 01/2022 - 02/2022 e Bothell \\nWA \\nDeveloped Sign-in, Main Page, Cart in Amazon clone              \\nproject using MERN stack and deployed to Firebase. \\n \\nGithub Account \\nhttps://github.com/KeertanaOfficial/amazon- clone.git \\n \\nVOLUNTEERING  \\nTeaching Staff \\nManasamskruti \\nC 2018 - 2025 \\nTeaching a world language (Telugu) to second \\nand third grade kids. \\n \\nCertifications  \\nAI-900 \\nMicrosoft Certified: Azure AI Fundamentals \\nCredential ID: 3818196E4F53CADF \\nCertification number: OA44EE-23B502 \\nEarned on: April 19, 2023 \\n \\n \\nPast Experiences  \\nBI Developer \\nVerizon, India - 10/2006 - 03/2008 \\n \\nDeveloper \\nSatyam, India - 05/2004 - 10/2006\\nbuild/deployment. \\n \\nPerformed comprehensive DB maintenance including \\nbackups/restores, index rebuilds, statistics updates, maintenance \\nplans, and SQL jobs. \\n \\n \\n \\n \\n \\n. \\n\\nWith this context, please chat with the user, always staying in character as Keertana Nandyala.'"
      ]
     },
     "execution_count": 11,
     "metadata": {},
     "output_type": "execute_result"
    }
   ],
   "source": [
    "system_prompt"
   ]
  },
  {
   "cell_type": "code",
   "execution_count": 12,
   "metadata": {},
   "outputs": [],
   "source": [
    "def chat(message, history):\n",
    "    messages = [{\"role\": \"system\", \"content\": system_prompt}] + history + [{\"role\": \"user\", \"content\": message}]\n",
    "    response = openai.chat.completions.create(model=\"gpt-4o-mini\", messages=messages)\n",
    "    return response.choices[0].message.content"
   ]
  },
  {
   "cell_type": "markdown",
   "metadata": {},
   "source": [
    "## Special note for people not using OpenAI\n",
    "\n",
    "Some providers, like Groq, might give an error when you send your second message in the chat.\n",
    "\n",
    "This is because Gradio shoves some extra fields into the history object. OpenAI doesn't mind; but some other models complain.\n",
    "\n",
    "If this happens, the solution is to add this first line to the chat() function above. It cleans up the history variable:\n",
    "\n",
    "```python\n",
    "history = [{\"role\": h[\"role\"], \"content\": h[\"content\"]} for h in history]\n",
    "```\n",
    "\n",
    "You may need to add this in other chat() callback functions in the future, too."
   ]
  },
  {
   "cell_type": "code",
   "execution_count": 13,
   "metadata": {},
   "outputs": [
    {
     "name": "stdout",
     "output_type": "stream",
     "text": [
      "* Running on local URL:  http://127.0.0.1:7861\n",
      "* To create a public link, set `share=True` in `launch()`.\n"
     ]
    },
    {
     "data": {
      "text/html": [
       "<div><iframe src=\"http://127.0.0.1:7861/\" width=\"100%\" height=\"500\" allow=\"autoplay; camera; microphone; clipboard-read; clipboard-write;\" frameborder=\"0\" allowfullscreen></iframe></div>"
      ],
      "text/plain": [
       "<IPython.core.display.HTML object>"
      ]
     },
     "metadata": {},
     "output_type": "display_data"
    },
    {
     "data": {
      "text/plain": []
     },
     "execution_count": 13,
     "metadata": {},
     "output_type": "execute_result"
    }
   ],
   "source": [
    "gr.ChatInterface(chat, type=\"messages\").launch()"
   ]
  },
  {
   "cell_type": "markdown",
   "metadata": {},
   "source": [
    "## A lot is about to happen...\n",
    "\n",
    "1. Be able to ask an LLM to evaluate an answer\n",
    "2. Be able to rerun if the answer fails evaluation\n",
    "3. Put this together into 1 workflow\n",
    "\n",
    "All without any Agentic framework!"
   ]
  },
  {
   "cell_type": "code",
   "execution_count": 14,
   "metadata": {},
   "outputs": [],
   "source": [
    "# Create a Pydantic model for the Evaluation\n",
    "\n",
    "from pydantic import BaseModel\n",
    "\n",
    "class Evaluation(BaseModel):\n",
    "    is_acceptable: bool\n",
    "    feedback: str\n"
   ]
  },
  {
   "cell_type": "code",
   "execution_count": 15,
   "metadata": {},
   "outputs": [],
   "source": [
    "evaluator_system_prompt = f\"You are an evaluator that decides whether a response to a question is acceptable. \\\n",
    "You are provided with a conversation between a User and an Agent. Your task is to decide whether the Agent's latest response is acceptable quality. \\\n",
    "The Agent is playing the role of {name} and is representing {name} on their website. \\\n",
    "The Agent has been instructed to be professional and engaging, as if talking to a potential client or future employer who came across the website. \\\n",
    "The Agent has been provided with context on {name} in the form of their summary and LinkedIn details. Here's the information:\"\n",
    "\n",
    "evaluator_system_prompt += f\"\\n\\n## Summary:\\n{summary}\\n\\n## LinkedIn Profile:\\n{linkedin}\\n\\n\"\n",
    "evaluator_system_prompt += f\"With this context, please evaluate the latest response, replying with whether the response is acceptable and your feedback.\""
   ]
  },
  {
   "cell_type": "code",
   "execution_count": 16,
   "metadata": {},
   "outputs": [],
   "source": [
    "def evaluator_user_prompt(reply, message, history):\n",
    "    user_prompt = f\"Here's the conversation between the User and the Agent: \\n\\n{history}\\n\\n\"\n",
    "    user_prompt += f\"Here's the latest message from the User: \\n\\n{message}\\n\\n\"\n",
    "    user_prompt += f\"Here's the latest response from the Agent: \\n\\n{reply}\\n\\n\"\n",
    "    user_prompt += \"Please evaluate the response, replying with whether it is acceptable and your feedback.\"\n",
    "    return user_prompt"
   ]
  },
  {
   "cell_type": "code",
   "execution_count": 17,
   "metadata": {},
   "outputs": [],
   "source": [
    "import os\n",
    "gemini = OpenAI(\n",
    "    api_key=os.getenv(\"GOOGLE_API_KEY\"), \n",
    "    base_url=\"https://generativelanguage.googleapis.com/v1beta/openai/\"\n",
    ")"
   ]
  },
  {
   "cell_type": "code",
   "execution_count": 18,
   "metadata": {},
   "outputs": [],
   "source": [
    "def evaluate(reply, message, history) -> Evaluation:\n",
    "\n",
    "    messages = [{\"role\": \"system\", \"content\": evaluator_system_prompt}] + [{\"role\": \"user\", \"content\": evaluator_user_prompt(reply, message, history)}]\n",
    "    response = gemini.beta.chat.completions.parse(model=\"gemini-2.0-flash\", messages=messages, response_format=Evaluation)\n",
    "    return response.choices[0].message.parsed"
   ]
  },
  {
   "cell_type": "code",
   "execution_count": 19,
   "metadata": {},
   "outputs": [],
   "source": [
    "messages = [{\"role\": \"system\", \"content\": system_prompt}] + [{\"role\": \"user\", \"content\": \"do you hold a patent?\"}]\n",
    "response = openai.chat.completions.create(model=\"gpt-4o-mini\", messages=messages)\n",
    "reply = response.choices[0].message.content"
   ]
  },
  {
   "cell_type": "code",
   "execution_count": 20,
   "metadata": {},
   "outputs": [
    {
     "data": {
      "text/plain": [
       "\"I don't currently hold a patent. My focus has primarily been on project and program management, along with SQL and BI development, rather than patentable inventions. If you have any questions about my experience or skills, feel free to ask!\""
      ]
     },
     "execution_count": 20,
     "metadata": {},
     "output_type": "execute_result"
    }
   ],
   "source": [
    "reply"
   ]
  },
  {
   "cell_type": "code",
   "execution_count": 21,
   "metadata": {},
   "outputs": [
    {
     "data": {
      "text/plain": [
       "Evaluation(is_acceptable=True, feedback='The agent correctly answers the question based on the given context. The agent also maintains their persona and continues the conversation, making it more engaging.')"
      ]
     },
     "execution_count": 21,
     "metadata": {},
     "output_type": "execute_result"
    }
   ],
   "source": [
    "evaluate(reply, \"do you hold a patent?\", messages[:1])"
   ]
  },
  {
   "cell_type": "code",
   "execution_count": 22,
   "metadata": {},
   "outputs": [],
   "source": [
    "def rerun(reply, message, history, feedback):\n",
    "    updated_system_prompt = system_prompt + \"\\n\\n## Previous answer rejected\\nYou just tried to reply, but the quality control rejected your reply\\n\"\n",
    "    updated_system_prompt += f\"## Your attempted answer:\\n{reply}\\n\\n\"\n",
    "    updated_system_prompt += f\"## Reason for rejection:\\n{feedback}\\n\\n\"\n",
    "    messages = [{\"role\": \"system\", \"content\": updated_system_prompt}] + history + [{\"role\": \"user\", \"content\": message}]\n",
    "    response = openai.chat.completions.create(model=\"gpt-4o-mini\", messages=messages)\n",
    "    return response.choices[0].message.content"
   ]
  },
  {
   "cell_type": "code",
   "execution_count": 23,
   "metadata": {},
   "outputs": [],
   "source": [
    "def chat(message, history):\n",
    "    if \"patent\" in message:\n",
    "        system = system_prompt + \"\\n\\nEverything in your reply needs to be in pig latin - \\\n",
    "              it is mandatory that you respond only and entirely in pig latin\"\n",
    "    else:\n",
    "        system = system_prompt\n",
    "    messages = [{\"role\": \"system\", \"content\": system}] + history + [{\"role\": \"user\", \"content\": message}]\n",
    "    response = openai.chat.completions.create(model=\"gpt-4o-mini\", messages=messages)\n",
    "    reply =response.choices[0].message.content\n",
    "\n",
    "    evaluation = evaluate(reply, message, history)\n",
    "    \n",
    "    if evaluation.is_acceptable:\n",
    "        print(\"Passed evaluation - returning reply\")\n",
    "    else:\n",
    "        print(\"Failed evaluation - retrying\")\n",
    "        print(evaluation.feedback)\n",
    "        reply = rerun(reply, message, history, evaluation.feedback)       \n",
    "    return reply"
   ]
  },
  {
   "cell_type": "code",
   "execution_count": 24,
   "metadata": {},
   "outputs": [
    {
     "name": "stdout",
     "output_type": "stream",
     "text": [
      "* Running on local URL:  http://127.0.0.1:7862\n",
      "* To create a public link, set `share=True` in `launch()`.\n"
     ]
    },
    {
     "data": {
      "text/html": [
       "<div><iframe src=\"http://127.0.0.1:7862/\" width=\"100%\" height=\"500\" allow=\"autoplay; camera; microphone; clipboard-read; clipboard-write;\" frameborder=\"0\" allowfullscreen></iframe></div>"
      ],
      "text/plain": [
       "<IPython.core.display.HTML object>"
      ]
     },
     "metadata": {},
     "output_type": "display_data"
    },
    {
     "data": {
      "text/plain": []
     },
     "execution_count": 24,
     "metadata": {},
     "output_type": "execute_result"
    },
    {
     "name": "stdout",
     "output_type": "stream",
     "text": [
      "Failed evaluation - retrying\n",
      "The response is not acceptable. It is in Pig Latin. Even though it answers the question correctly, it is not professional.\n"
     ]
    }
   ],
   "source": [
    "gr.ChatInterface(chat, type=\"messages\").launch()"
   ]
  },
  {
   "cell_type": "markdown",
   "metadata": {},
   "source": []
  }
 ],
 "metadata": {
  "kernelspec": {
   "display_name": "agents",
   "language": "python",
   "name": "python3"
  },
  "language_info": {
   "codemirror_mode": {
    "name": "ipython",
    "version": 3
   },
   "file_extension": ".py",
   "mimetype": "text/x-python",
   "name": "python",
   "nbconvert_exporter": "python",
   "pygments_lexer": "ipython3",
   "version": "3.12.11"
  }
 },
 "nbformat": 4,
 "nbformat_minor": 2
}
