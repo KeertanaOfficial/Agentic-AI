{
 "cells": [
  {
   "cell_type": "code",
   "execution_count": 14,
   "id": "a936a479",
   "metadata": {},
   "outputs": [],
   "source": [
    "from dotenv import load_dotenv\n",
    "from openai import OpenAI\n",
    "from PyPDF2 import PdfReader\n",
    "import gradio as gr"
   ]
  },
  {
   "cell_type": "code",
   "execution_count": 15,
   "id": "1bc828ad",
   "metadata": {},
   "outputs": [],
   "source": [
    "load_dotenv(override=True)\n",
    "openai = OpenAI()"
   ]
  },
  {
   "cell_type": "code",
   "execution_count": 17,
   "id": "dd4deb2f",
   "metadata": {},
   "outputs": [],
   "source": [
    "reader = PdfReader(\"me/linkedin.pdf\")\n",
    "linkedin = \"\"\n",
    "\n",
    "# Extract text from each page of the PDF\n",
    "for page in reader.pages:\n",
    "    text = page.extract_text()\n",
    "    if text:\n",
    "        linkedin += text"
   ]
  },
  {
   "cell_type": "code",
   "execution_count": 18,
   "id": "27a6b663",
   "metadata": {},
   "outputs": [
    {
     "name": "stdout",
     "output_type": "stream",
     "text": [
      " \n",
      "KEERTANA  NANDYALA  \n",
      "Technical  Program  Manager  \n",
      "E 206 856 0486  \n",
      "  keertana.1  gmail.com  q https://www.linkedin.com/in/keertana - \n",
      "nandyala/  \n",
      "e Bothell,  WA \n",
      " \n",
      " \n",
      " \n",
      " \n",
      "SUMMARY   \n",
      "Keertana  Nandyala  is an experienced  Project  management  SKILLS   \n",
      "Problem  Solving  Analysis  \n",
      "professional  with over 18 years  of total Information  technology      \n",
      "experience.  I have  solid experience  in Project  and Program \n",
      "Management  , SQL/BI  development.  I am a life -long learner  and \n",
      "seek to grow  knowledge  and leadership in the field of Technical \n",
      "Project and Program Management.  \n",
      " \n",
      " \n",
      "EXPERIENCE  \n",
      " \n",
      "Technical  Program  Manager  \n",
      "Wipro  Leadership  Azure  DevOps , ADF  \n",
      "SQL DB, Kusto , Excel , \n",
      "Power BI  ReactJS  \n",
      " \n",
      " \n",
      "Azure Machine Learning  Azure  PaaS  \n",
      " \n",
      "  \n",
      " \n",
      "C 02/2022  - Ongoing   e Redmond,  WA \n",
      "Company  Description  \n",
      "- Facilitated sprint review and planning meetings with engineering teams, \n",
      "overseeing product backlog management and adherence to Agile best \n",
      "practices.  \n",
      "- Achieved 100% on -time delivery across a project portfolio exceeding \n",
      "$1.5M in revenue.  \n",
      "- Collaborated with cross -functional teams to establish and uphold training \n",
      "and support standards, implementing serialized  technical training and \n",
      "work effort tracking process that boosted productivity by 20%.  \n",
      "- Led Supportability projects within the M365 space from inception to \n",
      "completion.  \n",
      "- Spearheaded the migration of a Machine Learning Project to Azure, \n",
      "automating resource creation with Bicep templates, reducing manual \n",
      "workload by 75%.  \n",
      "- Developed Azure architecture diagrams and comprehensive project \n",
      "documentation, ensuring compliance and security standards were met \n",
      "through stakeholder collaboration. Created Power BI reports to visualize \n",
      "model outputs across various product categories, enhancing internal \n",
      "stakeholder decision -making.  \n",
      "- Played a key role in interviewing, hiring, onboarding, and offboarding for \n",
      "multiple projects.  \n",
      "- Managed a team of over 15 direct reports, overseeing project and people \n",
      "management activities.  \n",
      "- As a Transitional PM, collaborated with global cross -functional teams to \n",
      "deliver seamless transition plans.  \n",
      " \n",
      " \n",
      "Senior  Project  Manager  \n",
      "HCL Technologies  \n",
      "C 10/2016  - 02/2022   e Redmond,  WA \n",
      "Company  Description  INDUSTRY  EXPERTISE   \n",
      "Agile  Practices  \n",
      " \n",
      " \n",
      "SQL\\BI Development  \n",
      " \n",
      " \n",
      "Project \\Program  Management  \n",
      " \n",
      " \n",
      "Problem  Solving \\Analysis  \n",
      " \n",
      " \n",
      "• Managed several projects in collaboration with the engineering and \n",
      "program management initiation stage all the way through closing.  \n",
      "• Define and manage full project lifecycle starting with defining timelines, \n",
      "developing  scope  of work,  monitoring  project  execution  to ensure  it stays \n",
      "on track and within budget.  \n",
      "• Lead sprint meetings and provide status updates to all the stakeholders \n",
      "and plan for sprint cycles.  \n",
      "• Designing  application  architecture.  \n",
      "• During  Quarterly \\Monthly  Service  reviews,  call out any potential  risks to \n",
      "the project and proactively identify measures that can mitigate the risk.  \n",
      "• Handle  projects  worth  ~$2M \n",
      "• Automating  task reporting  of ADO work items  developed  on .Net \n",
      "technology. Development of modules end -to-end with React.  \n",
      "• Hired  and onboarded  new employees  to various  Projects.  \n",
      "• Working knowledge on Web jobs, Azure app service, Access controls, \n",
      "Automation accounts, runbooks.  EDUCATION   \n",
      "B.Tech, Electronics and \n",
      "Communication Engineering  \n",
      "G.Narayanamma  Engineering  College  \n",
      "e Hyderabad,  India  \n",
      " \n",
      "AWARDS   \n",
      "s Received  \"Above  and Beyond\" \n",
      "performance  from  HCL for 3 \n",
      "quarters.  \n",
      " \n",
      "EXPERIENCE   \n",
      "Software  Developer  PERSONAL  PROJECTS   \n",
      "Moments  N Memories  \n",
      "Hewlett  Packard  Enterprise  C 07/2019  - 12/2019  e Redmond,  WA \n",
      "C 10/2008  - 07/2016  \n",
      "Company  Description  e Dublin,  Ohio \n",
      "  Developed  Instagram  clone  using MERN  Stack \n",
      " • Held responsibility  for developing  data conversion  logic generation.  \n",
      "• Generated  data files to be used in importing  employee  retirement  data.  \n",
      "• Monitored monthly payroll run and implemented  necessary bug fixes.  \n",
      "• Expertise  with SQL Server  Stored  Procedures,  Functions  and Views.  \n",
      "• Held responsibility for developing and deploying the reports in SQL \n",
      "Server Reporting Services.  \n",
      "• Converted BRIO reports to SSRS reports; provided Batch reporting and \n",
      "deployment.  \n",
      "• Designed  and developed  the reports  using  Active  Reports  .NET 6.0. \n",
      "• Integrated  reporting  with the application,  pulling  report  data from \n",
      "database  using  C# .NET and MS-SQL Server  2008.  \n",
      "• Experience in designing and deploying OLAP cubes and performing \n",
      "complex calculations in MDX for reporting.  \n",
      "• Prepared SQL scrips to set the report parameters in the database, which \n",
      "were used when reports were actually produced.  \n",
      "• Prepared  complex  Store  procedures  to pull the report  data from the \n",
      "database.  \n",
      "• Provided integration and testing of the reports using a web -based \n",
      "interface.  \n",
      "• Analyzed the Qlikview tool and developed dashboards by utilizing \n",
      "Qlikview.  \n",
      "• Designed reports per the HLD requirements and wrote Stored Procedures \n",
      "for the reports.  \n",
      "• Designed  reports  for performance  optimization  results;  implemented  DB \n",
      "change  requests.  \n",
      "• Collaborated  with Performance  Optimization  Team  to analyze  DB-related \n",
      "calls and provide feedback on optimizing Stored Procedures.  \n",
      "• Created  data models  using  Erwin  Data Modeler.  Utilized  Powershell  for \n",
      "automation.  \n",
      "• Provided  data dictionary  to the client  and provided  build  and deployment \n",
      "support.  \n",
      "• Authored  SSIS packages  for Load Testing  and Automation  Testing.  \n",
      "• Provided database maintenance activities, including DB backup, \n",
      "restoration,  index  rebuilding,  statistics  updating,  maintenance  plan creation \n",
      "and SQL jobs.  \n",
      " \n",
      "BI Developer  \n",
      "Verizon  and deployed  to Heroku.  \n",
      " \n",
      "Amazon  Clone  \n",
      "C 01/2022  - 02/2022  e Bothell,  WA \n",
      " Developed Sign -in, Main page and Cart in \n",
      "Amazon clone project using MERN stack and \n",
      "deployed to Firebase.  \n",
      " Github account - \n",
      "https://github.com/KeertanaOfficial/amazon - \n",
      "clone.git  \n",
      " \n",
      " \n",
      "VOLUNTEERING   \n",
      "Teaching  Staff  \n",
      "Manasamskruti  \n",
      "C 2018 - 2024 \n",
      "Teaching a world language (Telugu) to second  \n",
      "grade  kids.  \n",
      " \n",
      " \n",
      "Certifications   \n",
      "AI-900 \n",
      "Microsoft Certified: Azure AI Fundamentals  \n",
      "Credential ID: 3818196E4F53CADF  \n",
      "Certification number: OA44EE -23B502  \n",
      "Earned on: April 19, 2023\n",
      "C 10/2006  - 03/2008  \n",
      "Company  Description  \n",
      " SQL\\BI Developer  \n",
      " \n",
      "Developer  \n",
      "SATYAM  \n",
      "C 05/2004  - 10/2006  \n",
      "Company  Description  \n",
      " SQL\\BI Developer  e Hyderabad,  India  \n",
      " \n",
      " \n",
      " \n",
      " \n",
      " \n",
      " \n",
      " \n",
      "e Hyderabad,  India  \n"
     ]
    }
   ],
   "source": [
    "print(linkedin)"
   ]
  },
  {
   "cell_type": "code",
   "execution_count": 19,
   "id": "ea0dcd8c",
   "metadata": {},
   "outputs": [],
   "source": [
    "with open(\"me/summary.txt\", \"r\", encoding=\"utf-8\") as f:\n",
    "    summary = f.read()"
   ]
  },
  {
   "cell_type": "code",
   "execution_count": 20,
   "id": "55343984",
   "metadata": {},
   "outputs": [],
   "source": [
    "name = \"Keertana Nandyala\""
   ]
  },
  {
   "cell_type": "code",
   "execution_count": 21,
   "id": "182d53c9",
   "metadata": {},
   "outputs": [],
   "source": [
    "system_prompt = f\"You are acting as {name}. You are answering questions on {name}'s website, \\\n",
    "particularly questions related to {name}'s career, background, skills and experience. \\\n",
    "Your responsibility is to represent {name} for interactions on the website as faithfully as possible. \\\n",
    "You are given a summary of {name}'s background and LinkedIn profile which you can use to answer questions. \\\n",
    "Be professional and engaging, as if talking to a potential client or future employer who came across the website. \\\n",
    "If you don't know the answer, say so.\"\n",
    "\n",
    "system_prompt += f\"\\n\\n## Summary:\\n{summary}\\n\\n## LinkedIn Profile:\\n{linkedin}\\n\\n\"\n",
    "system_prompt += f\"With this context, please chat with the user, always staying in character as {name}.\"\n"
   ]
  },
  {
   "cell_type": "code",
   "execution_count": 22,
   "id": "47bcda6b",
   "metadata": {},
   "outputs": [
    {
     "data": {
      "text/plain": [
       "'You are acting as Keertana Nandyala. You are answering questions on Keertana Nandyala\\'s website, particularly questions related to Keertana Nandyala\\'s career, background, skills and experience. Your responsibility is to represent Keertana Nandyala for interactions on the website as faithfully as possible. You are given a summary of Keertana Nandyala\\'s background and LinkedIn profile which you can use to answer questions. Be professional and engaging, as if talking to a potential client or future employer who came across the website. If you don\\'t know the answer, say so.\\n\\n## Summary:\\n\\n\\n## LinkedIn Profile:\\n \\nKEERTANA  NANDYALA  \\nTechnical  Program  Manager  \\nE 206 856 0486  \\n  keertana.1  gmail.com  q https://www.linkedin.com/in/keertana - \\nnandyala/  \\ne Bothell,  WA \\n \\n \\n \\n \\nSUMMARY   \\nKeertana  Nandyala  is an experienced  Project  management  SKILLS   \\nProblem  Solving  Analysis  \\nprofessional  with over 18 years  of total Information  technology      \\nexperience.  I have  solid experience  in Project  and Program \\nManagement  , SQL/BI  development.  I am a life -long learner  and \\nseek to grow  knowledge  and leadership in the field of Technical \\nProject and Program Management.  \\n \\n \\nEXPERIENCE  \\n \\nTechnical  Program  Manager  \\nWipro  Leadership  Azure  DevOps , ADF  \\nSQL DB, Kusto , Excel , \\nPower BI  ReactJS  \\n \\n \\nAzure Machine Learning  Azure  PaaS  \\n \\n  \\n \\nC 02/2022  - Ongoing   e Redmond,  WA \\nCompany  Description  \\n- Facilitated sprint review and planning meetings with engineering teams, \\noverseeing product backlog management and adherence to Agile best \\npractices.  \\n- Achieved 100% on -time delivery across a project portfolio exceeding \\n$1.5M in revenue.  \\n- Collaborated with cross -functional teams to establish and uphold training \\nand support standards, implementing serialized  technical training and \\nwork effort tracking process that boosted productivity by 20%.  \\n- Led Supportability projects within the M365 space from inception to \\ncompletion.  \\n- Spearheaded the migration of a Machine Learning Project to Azure, \\nautomating resource creation with Bicep templates, reducing manual \\nworkload by 75%.  \\n- Developed Azure architecture diagrams and comprehensive project \\ndocumentation, ensuring compliance and security standards were met \\nthrough stakeholder collaboration. Created Power BI reports to visualize \\nmodel outputs across various product categories, enhancing internal \\nstakeholder decision -making.  \\n- Played a key role in interviewing, hiring, onboarding, and offboarding for \\nmultiple projects.  \\n- Managed a team of over 15 direct reports, overseeing project and people \\nmanagement activities.  \\n- As a Transitional PM, collaborated with global cross -functional teams to \\ndeliver seamless transition plans.  \\n \\n \\nSenior  Project  Manager  \\nHCL Technologies  \\nC 10/2016  - 02/2022   e Redmond,  WA \\nCompany  Description  INDUSTRY  EXPERTISE   \\nAgile  Practices  \\n \\n \\nSQL\\\\BI Development  \\n \\n \\nProject \\\\Program  Management  \\n \\n \\nProblem  Solving \\\\Analysis  \\n \\n \\n• Managed several projects in collaboration with the engineering and \\nprogram management initiation stage all the way through closing.  \\n• Define and manage full project lifecycle starting with defining timelines, \\ndeveloping  scope  of work,  monitoring  project  execution  to ensure  it stays \\non track and within budget.  \\n• Lead sprint meetings and provide status updates to all the stakeholders \\nand plan for sprint cycles.  \\n• Designing  application  architecture.  \\n• During  Quarterly \\\\Monthly  Service  reviews,  call out any potential  risks to \\nthe project and proactively identify measures that can mitigate the risk.  \\n• Handle  projects  worth  ~$2M \\n• Automating  task reporting  of ADO work items  developed  on .Net \\ntechnology. Development of modules end -to-end with React.  \\n• Hired  and onboarded  new employees  to various  Projects.  \\n• Working knowledge on Web jobs, Azure app service, Access controls, \\nAutomation accounts, runbooks.  EDUCATION   \\nB.Tech, Electronics and \\nCommunication Engineering  \\nG.Narayanamma  Engineering  College  \\ne Hyderabad,  India  \\n \\nAWARDS   \\ns Received  \"Above  and Beyond\" \\nperformance  from  HCL for 3 \\nquarters.  \\n \\nEXPERIENCE   \\nSoftware  Developer  PERSONAL  PROJECTS   \\nMoments  N Memories  \\nHewlett  Packard  Enterprise  C 07/2019  - 12/2019  e Redmond,  WA \\nC 10/2008  - 07/2016  \\nCompany  Description  e Dublin,  Ohio \\n  Developed  Instagram  clone  using MERN  Stack \\n • Held responsibility  for developing  data conversion  logic generation.  \\n• Generated  data files to be used in importing  employee  retirement  data.  \\n• Monitored monthly payroll run and implemented  necessary bug fixes.  \\n• Expertise  with SQL Server  Stored  Procedures,  Functions  and Views.  \\n• Held responsibility for developing and deploying the reports in SQL \\nServer Reporting Services.  \\n• Converted BRIO reports to SSRS reports; provided Batch reporting and \\ndeployment.  \\n• Designed  and developed  the reports  using  Active  Reports  .NET 6.0. \\n• Integrated  reporting  with the application,  pulling  report  data from \\ndatabase  using  C# .NET and MS-SQL Server  2008.  \\n• Experience in designing and deploying OLAP cubes and performing \\ncomplex calculations in MDX for reporting.  \\n• Prepared SQL scrips to set the report parameters in the database, which \\nwere used when reports were actually produced.  \\n• Prepared  complex  Store  procedures  to pull the report  data from the \\ndatabase.  \\n• Provided integration and testing of the reports using a web -based \\ninterface.  \\n• Analyzed the Qlikview tool and developed dashboards by utilizing \\nQlikview.  \\n• Designed reports per the HLD requirements and wrote Stored Procedures \\nfor the reports.  \\n• Designed  reports  for performance  optimization  results;  implemented  DB \\nchange  requests.  \\n• Collaborated  with Performance  Optimization  Team  to analyze  DB-related \\ncalls and provide feedback on optimizing Stored Procedures.  \\n• Created  data models  using  Erwin  Data Modeler.  Utilized  Powershell  for \\nautomation.  \\n• Provided  data dictionary  to the client  and provided  build  and deployment \\nsupport.  \\n• Authored  SSIS packages  for Load Testing  and Automation  Testing.  \\n• Provided database maintenance activities, including DB backup, \\nrestoration,  index  rebuilding,  statistics  updating,  maintenance  plan creation \\nand SQL jobs.  \\n \\nBI Developer  \\nVerizon  and deployed  to Heroku.  \\n \\nAmazon  Clone  \\nC 01/2022  - 02/2022  e Bothell,  WA \\n Developed Sign -in, Main page and Cart in \\nAmazon clone project using MERN stack and \\ndeployed to Firebase.  \\n Github account - \\nhttps://github.com/KeertanaOfficial/amazon - \\nclone.git  \\n \\n \\nVOLUNTEERING   \\nTeaching  Staff  \\nManasamskruti  \\nC 2018 - 2024 \\nTeaching a world language (Telugu) to second  \\ngrade  kids.  \\n \\n \\nCertifications   \\nAI-900 \\nMicrosoft Certified: Azure AI Fundamentals  \\nCredential ID: 3818196E4F53CADF  \\nCertification number: OA44EE -23B502  \\nEarned on: April 19, 2023\\nC 10/2006  - 03/2008  \\nCompany  Description  \\n SQL\\\\BI Developer  \\n \\nDeveloper  \\nSATYAM  \\nC 05/2004  - 10/2006  \\nCompany  Description  \\n SQL\\\\BI Developer  e Hyderabad,  India  \\n \\n \\n \\n \\n \\n \\n \\ne Hyderabad,  India  \\n\\nWith this context, please chat with the user, always staying in character as Keertana Nandyala.'"
      ]
     },
     "execution_count": 22,
     "metadata": {},
     "output_type": "execute_result"
    }
   ],
   "source": [
    "system_prompt"
   ]
  },
  {
   "cell_type": "code",
   "execution_count": 2,
   "id": "c6af0a56",
   "metadata": {},
   "outputs": [],
   "source": [
    "def chat(message, history):\n",
    "    messages=[{\"role\": \"system\", \"content\": system_prompt}] + history + [{\"role\": \"user\", \"content\": message}]\n",
    "    response = openai.chat.completions.create(\n",
    "        model=\"gpt-3.5-turbo\",\n",
    "        messages=messages)\n",
    "    return response.choices[0].message.content\n"
   ]
  },
  {
   "cell_type": "code",
   "execution_count": 3,
   "id": "21827683",
   "metadata": {},
   "outputs": [
    {
     "ename": "NameError",
     "evalue": "name 'gr' is not defined",
     "output_type": "error",
     "traceback": [
      "\u001b[31m---------------------------------------------------------------------------\u001b[39m",
      "\u001b[31mNameError\u001b[39m                                 Traceback (most recent call last)",
      "\u001b[36mCell\u001b[39m\u001b[36m \u001b[39m\u001b[32mIn[3]\u001b[39m\u001b[32m, line 1\u001b[39m\n\u001b[32m----> \u001b[39m\u001b[32m1\u001b[39m \u001b[43mgr\u001b[49m.ChatInterface(chat,\u001b[38;5;28mtype\u001b[39m=\u001b[33m\"\u001b[39m\u001b[33mmessages\u001b[39m\u001b[33m\"\u001b[39m).launch()\n",
      "\u001b[31mNameError\u001b[39m: name 'gr' is not defined"
     ]
    }
   ],
   "source": [
    "gr.ChatInterface(chat,type=\"messages\").launch()"
   ]
  },
  {
   "cell_type": "code",
   "execution_count": null,
   "id": "f7188405",
   "metadata": {},
   "outputs": [],
   "source": []
  }
 ],
 "metadata": {
  "kernelspec": {
   "display_name": "agents",
   "language": "python",
   "name": "python3"
  },
  "language_info": {
   "codemirror_mode": {
    "name": "ipython",
    "version": 3
   },
   "file_extension": ".py",
   "mimetype": "text/x-python",
   "name": "python",
   "nbconvert_exporter": "python",
   "pygments_lexer": "ipython3",
   "version": "3.12.11"
  }
 },
 "nbformat": 4,
 "nbformat_minor": 5
}
