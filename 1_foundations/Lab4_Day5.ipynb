{
 "cells": [
  {
   "cell_type": "markdown",
   "id": "0e3fde68",
   "metadata": {},
   "source": [
    "Using PUSH notifications to send messages to Phone"
   ]
  },
  {
   "cell_type": "code",
   "execution_count": null,
   "id": "1c44a240",
   "metadata": {},
   "outputs": [],
   "source": []
  }
 ],
 "metadata": {
  "kernelspec": {
   "display_name": "agents",
   "language": "python",
   "name": "python3"
  },
  "language_info": {
   "name": "python",
   "version": "3.12.11"
  }
 },
 "nbformat": 4,
 "nbformat_minor": 5
}
